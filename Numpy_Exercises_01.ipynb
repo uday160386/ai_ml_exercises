{
  "nbformat": 4,
  "nbformat_minor": 0,
  "metadata": {
    "colab": {
      "provenance": [],
      "authorship_tag": "ABX9TyOs/8Dva+Rj7gMw7zCBhUmS",
      "include_colab_link": true
    },
    "kernelspec": {
      "name": "python3",
      "display_name": "Python 3"
    },
    "language_info": {
      "name": "python"
    }
  },
  "cells": [
    {
      "cell_type": "markdown",
      "metadata": {
        "id": "view-in-github",
        "colab_type": "text"
      },
      "source": [
        "<a href=\"https://colab.research.google.com/github/uday160386/ai_ml_exercises/blob/basic/Numpy_Exercises_01.ipynb\" target=\"_parent\"><img src=\"https://colab.research.google.com/assets/colab-badge.svg\" alt=\"Open In Colab\"/></a>"
      ]
    },
    {
      "cell_type": "code",
      "execution_count": 6,
      "metadata": {
        "id": "bWTJV6i3vVnn"
      },
      "outputs": [],
      "source": [
        "from array import *\n"
      ]
    },
    {
      "cell_type": "code",
      "source": [
        "a_colours = array('u',[\"b\",\"g\",\"o\",\"p\"])\n",
        "print(a_colours)"
      ],
      "metadata": {
        "colab": {
          "base_uri": "https://localhost:8080/"
        },
        "id": "56qiBCSxxAvh",
        "outputId": "b7c14ecb-412c-4be7-ed69-2dc852b1e604"
      },
      "execution_count": 7,
      "outputs": [
        {
          "output_type": "stream",
          "name": "stdout",
          "text": [
            "array('u', 'bgop')\n"
          ]
        }
      ]
    },
    {
      "cell_type": "code",
      "source": [
        "for i in a_colours:\n",
        "  print(i)"
      ],
      "metadata": {
        "colab": {
          "base_uri": "https://localhost:8080/"
        },
        "id": "0jDgPJDzxA6A",
        "outputId": "5e3c9796-663a-473c-883d-c0c9b481533b"
      },
      "execution_count": 8,
      "outputs": [
        {
          "output_type": "stream",
          "name": "stdout",
          "text": [
            "b\n",
            "g\n",
            "o\n",
            "p\n"
          ]
        }
      ]
    },
    {
      "cell_type": "code",
      "source": [
        "print(len(a_colours))\n",
        "print(a_colours[2])\n",
        "a_colours.append('y')\n",
        "print(a_colours)\n",
        "print(a_colours.count('y'))\n",
        "a_colours.pop()\n",
        "print(a_colours)\n",
        "print(a_colours.reverse())\n",
        "print(a_colours.itemsize)\n",
        "print(a_colours.typecode)"
      ],
      "metadata": {
        "colab": {
          "base_uri": "https://localhost:8080/"
        },
        "id": "VCEaoS9WyF6H",
        "outputId": "9f361fff-a0f4-4f6f-f297-bcba1fea0c61"
      },
      "execution_count": 20,
      "outputs": [
        {
          "output_type": "stream",
          "name": "stdout",
          "text": [
            "7\n",
            "o\n",
            "array('u', 'bgopyyyy')\n",
            "4\n",
            "array('u', 'bgopyyy')\n",
            "None\n",
            "4\n",
            "u\n"
          ]
        }
      ]
    },
    {
      "cell_type": "markdown",
      "source": [
        "# Multi-Dimensional Array"
      ],
      "metadata": {
        "id": "de6o5mgLzji-"
      }
    },
    {
      "cell_type": "code",
      "source": [
        "a_marks = array('i',[[78,69,55],[90,92,93],[75,58,46]])\n",
        "print(len(a_marks))"
      ],
      "metadata": {
        "colab": {
          "base_uri": "https://localhost:8080/",
          "height": 159
        },
        "id": "akmNp75fzcwE",
        "outputId": "7a624037-c494-4173-8d1c-0671f7b59f5d"
      },
      "execution_count": 46,
      "outputs": [
        {
          "output_type": "error",
          "ename": "TypeError",
          "evalue": "Field elements must be 2- or 3-tuples, got '[78, 69, 55]'",
          "traceback": [
            "\u001b[0;31m---------------------------------------------------------------------------\u001b[0m",
            "\u001b[0;31mTypeError\u001b[0m                                 Traceback (most recent call last)",
            "\u001b[0;32m<ipython-input-46-13ecd9f420d2>\u001b[0m in \u001b[0;36m<cell line: 1>\u001b[0;34m()\u001b[0m\n\u001b[0;32m----> 1\u001b[0;31m \u001b[0ma_marks\u001b[0m \u001b[0;34m=\u001b[0m \u001b[0marray\u001b[0m\u001b[0;34m(\u001b[0m\u001b[0;34m'i'\u001b[0m\u001b[0;34m,\u001b[0m\u001b[0;34m[\u001b[0m\u001b[0;34m[\u001b[0m\u001b[0;36m78\u001b[0m\u001b[0;34m,\u001b[0m\u001b[0;36m69\u001b[0m\u001b[0;34m,\u001b[0m\u001b[0;36m55\u001b[0m\u001b[0;34m]\u001b[0m\u001b[0;34m,\u001b[0m\u001b[0;34m[\u001b[0m\u001b[0;36m90\u001b[0m\u001b[0;34m,\u001b[0m\u001b[0;36m92\u001b[0m\u001b[0;34m,\u001b[0m\u001b[0;36m93\u001b[0m\u001b[0;34m]\u001b[0m\u001b[0;34m,\u001b[0m\u001b[0;34m[\u001b[0m\u001b[0;36m75\u001b[0m\u001b[0;34m,\u001b[0m\u001b[0;36m58\u001b[0m\u001b[0;34m,\u001b[0m\u001b[0;36m46\u001b[0m\u001b[0;34m]\u001b[0m\u001b[0;34m]\u001b[0m\u001b[0;34m)\u001b[0m\u001b[0;34m\u001b[0m\u001b[0;34m\u001b[0m\u001b[0m\n\u001b[0m\u001b[1;32m      2\u001b[0m \u001b[0mprint\u001b[0m\u001b[0;34m(\u001b[0m\u001b[0mlen\u001b[0m\u001b[0;34m(\u001b[0m\u001b[0ma_marks\u001b[0m\u001b[0;34m)\u001b[0m\u001b[0;34m)\u001b[0m\u001b[0;34m\u001b[0m\u001b[0;34m\u001b[0m\u001b[0m\n",
            "\u001b[0;31mTypeError\u001b[0m: Field elements must be 2- or 3-tuples, got '[78, 69, 55]'"
          ]
        }
      ]
    },
    {
      "cell_type": "code",
      "source": [
        "from numpy import *\n",
        "\n",
        "a_marks = array([[78,69,55],[90,92,93],[75,58,46]])\n",
        "print(a_marks)"
      ],
      "metadata": {
        "colab": {
          "base_uri": "https://localhost:8080/"
        },
        "id": "fY6ohukw0Svw",
        "outputId": "1010c56b-db23-4c0e-a9e1-727f363a4c5f"
      },
      "execution_count": 47,
      "outputs": [
        {
          "output_type": "stream",
          "name": "stdout",
          "text": [
            "[[78 69 55]\n",
            " [90 92 93]\n",
            " [75 58 46]]\n"
          ]
        }
      ]
    },
    {
      "cell_type": "code",
      "source": [
        "print(a_marks.transpose())"
      ],
      "metadata": {
        "colab": {
          "base_uri": "https://localhost:8080/"
        },
        "id": "UHUDmYP10ccT",
        "outputId": "1975943f-4dde-4563-c545-2fa5fa997612"
      },
      "execution_count": 30,
      "outputs": [
        {
          "output_type": "stream",
          "name": "stdout",
          "text": [
            "[[78 90 75]\n",
            " [69 92 58]\n",
            " [55 93 46]]\n"
          ]
        }
      ]
    },
    {
      "cell_type": "code",
      "source": [
        "import argparse\n",
        "parser = argparse.ArgumentParser(description=\"Input multi dimential array\")\n",
        "parser.add_argument(\"n1\",help=\"Enter 1st row elements\")\n",
        "parser.add_argument(\"n2\",help=\"Enter 2nd row elements\")\n",
        "parser.add_argument(\"n3\",help=\"Enter 3rd row elements\")\n",
        "args = parser.parse_args()\n",
        "\n",
        "an_marray = array([args.n1,args.n2,args.n3])\n"
      ],
      "metadata": {
        "colab": {
          "base_uri": "https://localhost:8080/",
          "height": 124
        },
        "id": "WFrdIj0i0_aV",
        "outputId": "47a944b0-ce59-44c3-a331-86dbd1d9ad1c"
      },
      "execution_count": 41,
      "outputs": [
        {
          "output_type": "stream",
          "name": "stderr",
          "text": [
            "usage: colab_kernel_launcher.py [-h] n1 n2 n3\n",
            "colab_kernel_launcher.py: error: the following arguments are required: n2, n3\n"
          ]
        },
        {
          "output_type": "error",
          "ename": "SystemExit",
          "evalue": "2",
          "traceback": [
            "An exception has occurred, use %tb to see the full traceback.\n",
            "\u001b[0;31mSystemExit\u001b[0m\u001b[0;31m:\u001b[0m 2\n"
          ]
        }
      ]
    },
    {
      "cell_type": "code",
      "source": [
        "a = arange(2,22,2)\n",
        "print(a)"
      ],
      "metadata": {
        "colab": {
          "base_uri": "https://localhost:8080/"
        },
        "id": "B843AVn33EXY",
        "outputId": "6e7c2f43-2036-4e46-a0d9-332ecd74f56b"
      },
      "execution_count": 42,
      "outputs": [
        {
          "output_type": "stream",
          "name": "stdout",
          "text": [
            "[ 2  4  6  8 10 12 14 16 18 20]\n"
          ]
        }
      ]
    },
    {
      "cell_type": "code",
      "source": [
        "z = zeros(5,int)\n",
        "o = ones(5, int)\n",
        "print(o)\n",
        "print(sum(a_marks))\n",
        "print(max(a_marks))\n",
        "print(min(a_marks))"
      ],
      "metadata": {
        "colab": {
          "base_uri": "https://localhost:8080/",
          "height": 228
        },
        "id": "ryFTHq-Y5NXJ",
        "outputId": "3e462426-d739-48cb-a4fa-ca7b6806f759"
      },
      "execution_count": 53,
      "outputs": [
        {
          "output_type": "stream",
          "name": "stdout",
          "text": [
            "[1 1 1 1 1]\n",
            "656\n"
          ]
        },
        {
          "output_type": "error",
          "ename": "ValueError",
          "evalue": "The truth value of an array with more than one element is ambiguous. Use a.any() or a.all()",
          "traceback": [
            "\u001b[0;31m---------------------------------------------------------------------------\u001b[0m",
            "\u001b[0;31mValueError\u001b[0m                                Traceback (most recent call last)",
            "\u001b[0;32m<ipython-input-53-aa989da6943a>\u001b[0m in \u001b[0;36m<cell line: 5>\u001b[0;34m()\u001b[0m\n\u001b[1;32m      3\u001b[0m \u001b[0mprint\u001b[0m\u001b[0;34m(\u001b[0m\u001b[0mo\u001b[0m\u001b[0;34m)\u001b[0m\u001b[0;34m\u001b[0m\u001b[0;34m\u001b[0m\u001b[0m\n\u001b[1;32m      4\u001b[0m \u001b[0mprint\u001b[0m\u001b[0;34m(\u001b[0m\u001b[0msum\u001b[0m\u001b[0;34m(\u001b[0m\u001b[0ma_marks\u001b[0m\u001b[0;34m)\u001b[0m\u001b[0;34m)\u001b[0m\u001b[0;34m\u001b[0m\u001b[0;34m\u001b[0m\u001b[0m\n\u001b[0;32m----> 5\u001b[0;31m \u001b[0mprint\u001b[0m\u001b[0;34m(\u001b[0m\u001b[0mmax\u001b[0m\u001b[0;34m(\u001b[0m\u001b[0ma_marks\u001b[0m\u001b[0;34m)\u001b[0m\u001b[0;34m)\u001b[0m\u001b[0;34m\u001b[0m\u001b[0;34m\u001b[0m\u001b[0m\n\u001b[0m\u001b[1;32m      6\u001b[0m \u001b[0mprint\u001b[0m\u001b[0;34m(\u001b[0m\u001b[0mmin\u001b[0m\u001b[0;34m(\u001b[0m\u001b[0ma_marks\u001b[0m\u001b[0;34m)\u001b[0m\u001b[0;34m)\u001b[0m\u001b[0;34m\u001b[0m\u001b[0;34m\u001b[0m\u001b[0m\n",
            "\u001b[0;31mValueError\u001b[0m: The truth value of an array with more than one element is ambiguous. Use a.any() or a.all()"
          ]
        }
      ]
    },
    {
      "cell_type": "code",
      "source": [
        "a = array([1,2,3,0])\n",
        "b = array([0,2,3,1])\n",
        "\n",
        "c= a== b\n",
        "print('result of a==b:  ', c)"
      ],
      "metadata": {
        "colab": {
          "base_uri": "https://localhost:8080/"
        },
        "id": "UeKA3Pp16mSs",
        "outputId": "8cce26ff-8154-4ba7-e496-64f3ef90bb7d"
      },
      "execution_count": 54,
      "outputs": [
        {
          "output_type": "stream",
          "name": "stdout",
          "text": [
            "result of a==b:   [False  True  True False]\n"
          ]
        }
      ]
    },
    {
      "cell_type": "code",
      "source": [
        "print(a_marks.view())"
      ],
      "metadata": {
        "colab": {
          "base_uri": "https://localhost:8080/"
        },
        "id": "DuQULzKQ7M6Q",
        "outputId": "aeccdd1a-6175-408a-8a8b-131577e5afcb"
      },
      "execution_count": 55,
      "outputs": [
        {
          "output_type": "stream",
          "name": "stdout",
          "text": [
            "[[78 69 55]\n",
            " [90 92 93]\n",
            " [75 58 46]]\n"
          ]
        }
      ]
    },
    {
      "cell_type": "code",
      "source": [
        "b_marks = a_marks.copy()\n",
        "print(b_marks)"
      ],
      "metadata": {
        "colab": {
          "base_uri": "https://localhost:8080/"
        },
        "id": "dlgqMQtW7aHG",
        "outputId": "ab9c00a4-1cdc-4c99-bb29-b5bcdfa9f117"
      },
      "execution_count": 56,
      "outputs": [
        {
          "output_type": "stream",
          "name": "stdout",
          "text": [
            "[[78 69 55]\n",
            " [90 92 93]\n",
            " [75 58 46]]\n"
          ]
        }
      ]
    },
    {
      "cell_type": "code",
      "source": [
        "print(a_marks.shape)\n",
        "print(a_marks.size)\n",
        "print(a_marks.itemsize)"
      ],
      "metadata": {
        "colab": {
          "base_uri": "https://localhost:8080/"
        },
        "id": "ONwP2oZi7i8e",
        "outputId": "9f55db48-dce5-4076-f7c3-a80c515d03b2"
      },
      "execution_count": 59,
      "outputs": [
        {
          "output_type": "stream",
          "name": "stdout",
          "text": [
            "(3, 3)\n",
            "9\n",
            "8\n"
          ]
        }
      ]
    },
    {
      "cell_type": "code",
      "source": [
        "a_str = array([['uday','kumar','venkat'],['abhi','ram','venkata']])\n",
        "print(a_str)\n",
        "print('memory size :', a_str.itemsize)\n",
        "print('memory size :', a_str.nbytes)"
      ],
      "metadata": {
        "colab": {
          "base_uri": "https://localhost:8080/"
        },
        "id": "v5Fbo4Pp8EL2",
        "outputId": "f4df94db-298a-4545-e6c4-5369db55e1fd"
      },
      "execution_count": 75,
      "outputs": [
        {
          "output_type": "stream",
          "name": "stdout",
          "text": [
            "[['uday' 'kumar' 'venkat']\n",
            " ['abhi' 'ram' 'venkata']]\n",
            "memory size : 28\n",
            "memory size : 168\n"
          ]
        }
      ]
    },
    {
      "cell_type": "code",
      "source": [
        "a_str = array([['uday','kumar','venkat'],['abhi','ram','venkata']])\n",
        "print(a_str.reshape(3,2))\n",
        "print(a_str.flatten())\n",
        "a=eye(3)\n",
        "print(a)\n",
        "print(a_marks)"
      ],
      "metadata": {
        "colab": {
          "base_uri": "https://localhost:8080/"
        },
        "id": "fYABgF1F9inS",
        "outputId": "8270fbe8-70ba-430f-e23b-40e6c442baae"
      },
      "execution_count": 85,
      "outputs": [
        {
          "output_type": "stream",
          "name": "stdout",
          "text": [
            "[['uday' 'kumar']\n",
            " ['venkat' 'abhi']\n",
            " ['ram' 'venkata']]\n",
            "['uday' 'kumar' 'venkat' 'abhi' 'ram' 'venkata']\n",
            "[[1. 0. 0.]\n",
            " [0. 1. 0.]\n",
            " [0. 0. 1.]]\n",
            "[[78 69 55]\n",
            " [90 92 93]\n",
            " [75 58 46]]\n"
          ]
        }
      ]
    },
    {
      "cell_type": "code",
      "source": [
        "for i in range(len(a_marks)):\n",
        "  for j in range(len(a_marks)):\n",
        "    print(\"{} - {} - index of i &j is {}\".format(i, j, a_marks[i][j]))"
      ],
      "metadata": {
        "colab": {
          "base_uri": "https://localhost:8080/"
        },
        "id": "bYKyyZzj_JQq",
        "outputId": "37652d82-6e4e-47e8-81b9-936764f634b4"
      },
      "execution_count": 88,
      "outputs": [
        {
          "output_type": "stream",
          "name": "stdout",
          "text": [
            "0 - 0 - index of i &j is 78\n",
            "0 - 1 - index of i &j is 69\n",
            "0 - 2 - index of i &j is 55\n",
            "1 - 0 - index of i &j is 90\n",
            "1 - 1 - index of i &j is 92\n",
            "1 - 2 - index of i &j is 93\n",
            "2 - 0 - index of i &j is 75\n",
            "2 - 1 - index of i &j is 58\n",
            "2 - 2 - index of i &j is 46\n"
          ]
        }
      ]
    },
    {
      "cell_type": "code",
      "source": [
        "print(diagonal(a_marks))\n",
        "print(a_marks.max())\n",
        "print(a_marks.min())\n",
        "print(a_marks.mean())\n",
        "print(a_marks.sum())"
      ],
      "metadata": {
        "colab": {
          "base_uri": "https://localhost:8080/"
        },
        "id": "mRbHKP6o_0U8",
        "outputId": "854afedf-5f74-4a61-e869-99427a3022aa"
      },
      "execution_count": 93,
      "outputs": [
        {
          "output_type": "stream",
          "name": "stdout",
          "text": [
            "[78 92 46]\n",
            "93\n",
            "46\n",
            "72.88888888888889\n",
            "656\n"
          ]
        }
      ]
    },
    {
      "cell_type": "code",
      "source": [
        "print(sort(a_marks))"
      ],
      "metadata": {
        "colab": {
          "base_uri": "https://localhost:8080/"
        },
        "id": "YsUYpF0rAItV",
        "outputId": "19927262-f252-43ad-aed6-c92299a7bfff"
      },
      "execution_count": 94,
      "outputs": [
        {
          "output_type": "stream",
          "name": "stdout",
          "text": [
            "[[55 69 78]\n",
            " [90 92 93]\n",
            " [46 58 75]]\n"
          ]
        }
      ]
    },
    {
      "cell_type": "code",
      "source": [
        "import random\n",
        "print(random.randrange(100))\n"
      ],
      "metadata": {
        "colab": {
          "base_uri": "https://localhost:8080/"
        },
        "id": "ClMrbiYtA5Oo",
        "outputId": "17623ece-9831-482c-a6eb-ec8162fb3f37"
      },
      "execution_count": 118,
      "outputs": [
        {
          "output_type": "stream",
          "name": "stdout",
          "text": [
            "79\n"
          ]
        }
      ]
    }
  ]
}