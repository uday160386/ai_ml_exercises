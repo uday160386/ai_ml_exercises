{
  "nbformat": 4,
  "nbformat_minor": 0,
  "metadata": {
    "colab": {
      "provenance": [],
      "include_colab_link": true
    },
    "kernelspec": {
      "name": "python3",
      "display_name": "Python 3"
    },
    "language_info": {
      "name": "python"
    }
  },
  "cells": [
    {
      "cell_type": "markdown",
      "metadata": {
        "id": "view-in-github",
        "colab_type": "text"
      },
      "source": [
        "<a href=\"https://colab.research.google.com/github/uday160386/uday_ai_ml/blob/main/PNB_5_Strings.ipynb\" target=\"_parent\"><img src=\"https://colab.research.google.com/assets/colab-badge.svg\" alt=\"Open In Colab\"/></a>"
      ]
    },
    {
      "cell_type": "markdown",
      "source": [
        "## Practice Notebook"
      ],
      "metadata": {
        "id": "12wF6gUYT_We"
      }
    },
    {
      "cell_type": "markdown",
      "source": [
        "## Strings\n",
        "\n",
        "A string is a series of characters. In Python, anything inside \"quotes\" is a string. You can either use 'single quotes' or \"double quotes\".\n",
        "\n",
        "For more info, refer [here](https://www.w3schools.com/python/python_strings.asp)."
      ],
      "metadata": {
        "id": "OJx1Dus7hHsx"
      }
    },
    {
      "cell_type": "markdown",
      "source": [
        "####Exercise 1:\n",
        "\n",
        "Declare the values of a string variable to be 'Tests, Quizzes, Individual Labs, Group Labs and Hackathons'.\n",
        "\n",
        "\n",
        "Print the string."
      ],
      "metadata": {
        "id": "dN-JN2GeYNzP"
      }
    },
    {
      "cell_type": "code",
      "source": [
        "str1='Tests, Quizzes, Individual Labs, Group Labs and Hackathons'\n",
        "print(str)"
      ],
      "metadata": {
        "id": "PvmSKSuCYAzn",
        "colab": {
          "base_uri": "https://localhost:8080/"
        },
        "outputId": "ba05f038-c0ef-4103-836f-d6558249cb1e"
      },
      "execution_count": 4,
      "outputs": [
        {
          "output_type": "stream",
          "name": "stdout",
          "text": [
            "I need Tables, Chairs, Cupboards\n"
          ]
        }
      ]
    },
    {
      "cell_type": "markdown",
      "source": [
        "####Exercise 2:\n",
        "\n",
        "Declare the values of a string variable to be \"I need Tables, Chairs, Cupboards\", in double qoutes.\n",
        "\n",
        "Print the string."
      ],
      "metadata": {
        "id": "_5P3baVHXixq"
      }
    },
    {
      "cell_type": "code",
      "execution_count": 5,
      "metadata": {
        "id": "TRkcTF71T1PO",
        "colab": {
          "base_uri": "https://localhost:8080/"
        },
        "outputId": "2f981ef8-201e-4f99-f0e9-2b6d053f06ba"
      },
      "outputs": [
        {
          "output_type": "stream",
          "name": "stdout",
          "text": [
            "I need Tables, Chairs, Cupboards\n"
          ]
        }
      ],
      "source": [
        "str2=\"I need Tables, Chairs, Cupboards\"\n",
        "print(str)"
      ]
    },
    {
      "cell_type": "markdown",
      "source": [
        "####Exercise 3:\n",
        "\n",
        "Concatenate the two string variables declared in Exercise 1 and Exercise 2."
      ],
      "metadata": {
        "id": "-_F548p0cm-Y"
      }
    },
    {
      "cell_type": "code",
      "source": [
        "str4=str1+str2\n",
        "print(str4)"
      ],
      "metadata": {
        "id": "JEdJQUBkcUHe",
        "colab": {
          "base_uri": "https://localhost:8080/"
        },
        "outputId": "96aae431-814a-4386-8229-dea3b1d5399b"
      },
      "execution_count": 8,
      "outputs": [
        {
          "output_type": "stream",
          "name": "stdout",
          "text": [
            "Tests, Quizzes, Individual Labs, Group Labs and HackathonsI need Tables, Chairs, Cupboards\n"
          ]
        }
      ]
    },
    {
      "cell_type": "markdown",
      "source": [
        "####Exercise 4:\n",
        "\n",
        "Write a short note on any topic in python and print the note using single `print` statement."
      ],
      "metadata": {
        "id": "BsMn8suiZSMr"
      }
    },
    {
      "cell_type": "code",
      "source": [
        "print(' writing the short notes')"
      ],
      "metadata": {
        "id": "ndGfCaAMZEyj",
        "colab": {
          "base_uri": "https://localhost:8080/"
        },
        "outputId": "09689d9e-edf1-48b1-8478-84761f1e052e"
      },
      "execution_count": 7,
      "outputs": [
        {
          "output_type": "stream",
          "name": "stdout",
          "text": [
            " writing the short notes\n"
          ]
        }
      ]
    },
    {
      "cell_type": "markdown",
      "source": [
        "####Exercise 5:\n",
        "\n",
        "* Concatenate the output of the string in Exercise 3 and output of the string in Exercise 1.\n",
        "* Print the length of the concatenated string.\n"
      ],
      "metadata": {
        "id": "bpzOBwWjdUbO"
      }
    },
    {
      "cell_type": "code",
      "source": [
        "new_str=str4+str1\n",
        "print(new_str)\n",
        "print(len(new_str))"
      ],
      "metadata": {
        "id": "ScREMvsJd4Ig",
        "colab": {
          "base_uri": "https://localhost:8080/"
        },
        "outputId": "1314895e-53f9-4d5c-a8f7-5e98b04bf886"
      },
      "execution_count": 9,
      "outputs": [
        {
          "output_type": "stream",
          "name": "stdout",
          "text": [
            "Tests, Quizzes, Individual Labs, Group Labs and HackathonsI need Tables, Chairs, CupboardsTests, Quizzes, Individual Labs, Group Labs and Hackathons\n",
            "148\n"
          ]
        }
      ]
    },
    {
      "cell_type": "markdown",
      "source": [
        "#### Exercies 6:\n",
        "\n",
        "Perform simple string operations for A = \"Hello\", B = \"world!\":\n",
        " * Concatenate by +.\n",
        " * Multiple concatenation by *  (ex: 4 * A + \" \" * 3 + B * 2).\n",
        " * Check for substring with `in`.\n",
        " * Determine the size (number of characters) using `len`."
      ],
      "metadata": {
        "id": "zrvj2kICovvo"
      }
    },
    {
      "cell_type": "code",
      "source": [
        "A = \"Hello\"\n",
        "B = \"world!\"\n",
        "print(A+B)\n",
        "print(2*(4 * A + \" \" * 3 + B * 2))\n",
        "len(2*(4 * A + \" \" * 3 + B * 2))"
      ],
      "metadata": {
        "id": "mUwqIlhnpBPe",
        "colab": {
          "base_uri": "https://localhost:8080/"
        },
        "outputId": "89a3c1cd-5482-4dba-a4ea-c5bf979f0a85"
      },
      "execution_count": 16,
      "outputs": [
        {
          "output_type": "stream",
          "name": "stdout",
          "text": [
            "Helloworld!\n",
            "HelloHelloHelloHello   world!world!HelloHelloHelloHello   world!world!\n"
          ]
        },
        {
          "output_type": "execute_result",
          "data": {
            "text/plain": [
              "70"
            ]
          },
          "metadata": {},
          "execution_count": 16
        }
      ]
    },
    {
      "cell_type": "markdown",
      "source": [
        "####Exercies 7:\n",
        "\n",
        "For the given variable name = 'hELLO, WORLD!', perform the following:\n",
        "* Print the character '!'.\n",
        "* Convert the string to lowercase.\n",
        "* Print the first character in upper case.\n",
        "* Print a string where all the upper case letters are lower case and vice versa.\n"
      ],
      "metadata": {
        "id": "t_RU_DjFqMF-"
      }
    },
    {
      "cell_type": "code",
      "source": [
        "name = 'hELLO, WORLD!'\n",
        "print(name[-1])"
      ],
      "metadata": {
        "id": "JeDkZaQxpamY",
        "colab": {
          "base_uri": "https://localhost:8080/"
        },
        "outputId": "8360eacf-1b9a-44f1-a7fc-3725af4f5460"
      },
      "execution_count": 17,
      "outputs": [
        {
          "output_type": "stream",
          "name": "stdout",
          "text": [
            "!\n"
          ]
        }
      ]
    },
    {
      "cell_type": "code",
      "source": [
        "# The lower() method returns a string converted to lowercase.\n",
        "print(name.lower())"
      ],
      "metadata": {
        "id": "B8n5iU_-snKH",
        "colab": {
          "base_uri": "https://localhost:8080/"
        },
        "outputId": "562d9a5f-60c4-4997-a8ba-14d41726a035"
      },
      "execution_count": 18,
      "outputs": [
        {
          "output_type": "stream",
          "name": "stdout",
          "text": [
            "hello, world!\n"
          ]
        }
      ]
    },
    {
      "cell_type": "code",
      "source": [
        "print(name.upper())"
      ],
      "metadata": {
        "id": "8d0wOfi3Zsd-",
        "colab": {
          "base_uri": "https://localhost:8080/"
        },
        "outputId": "dc336395-ab5d-4bae-da47-6f1182c17794"
      },
      "execution_count": 19,
      "outputs": [
        {
          "output_type": "stream",
          "name": "stdout",
          "text": [
            "HELLO, WORLD!\n"
          ]
        }
      ]
    },
    {
      "cell_type": "code",
      "source": [
        "print(name.swapcase())"
      ],
      "metadata": {
        "id": "hYOmJNw4aOL9",
        "colab": {
          "base_uri": "https://localhost:8080/"
        },
        "outputId": "bd1eefa6-a1d3-4ac5-e94a-cbc6420daa27"
      },
      "execution_count": 22,
      "outputs": [
        {
          "output_type": "stream",
          "name": "stdout",
          "text": [
            "Hello, world!\n"
          ]
        }
      ]
    },
    {
      "cell_type": "markdown",
      "source": [
        "#### Exercies 8:\n",
        "\n",
        "For a given string, perform the following:\n",
        "* Using `for` to iterate over a string in Python.\n",
        "* Print the number of times the letter/character ‘s’ appears in a string."
      ],
      "metadata": {
        "id": "3wNoT59o2HAi"
      }
    },
    {
      "cell_type": "code",
      "source": [
        "for i in name:\n",
        "  print(i)"
      ],
      "metadata": {
        "id": "C52n7pwL0_dZ",
        "colab": {
          "base_uri": "https://localhost:8080/"
        },
        "outputId": "e5158280-70f8-4404-e703-424c88711814"
      },
      "execution_count": 23,
      "outputs": [
        {
          "output_type": "stream",
          "name": "stdout",
          "text": [
            "h\n",
            "E\n",
            "L\n",
            "L\n",
            "O\n",
            ",\n",
            " \n",
            "W\n",
            "O\n",
            "R\n",
            "L\n",
            "D\n",
            "!\n"
          ]
        }
      ]
    },
    {
      "cell_type": "code",
      "source": [
        "n=0\n",
        "for i in name:\n",
        "  if i == 'D':\n",
        "    n=n+1\n",
        "print(n)"
      ],
      "metadata": {
        "id": "5zjqFGxI3Epa",
        "colab": {
          "base_uri": "https://localhost:8080/"
        },
        "outputId": "fe0b936f-b40e-455e-c022-aa884f55ad4b"
      },
      "execution_count": 27,
      "outputs": [
        {
          "output_type": "stream",
          "name": "stdout",
          "text": [
            "1\n"
          ]
        }
      ]
    },
    {
      "cell_type": "markdown",
      "source": [
        "#### Exercies 9:\n",
        "\n",
        "For a given list, perform the following:\n",
        "\n",
        "* Print the list in reverse oder.\n",
        "\n",
        "* Print the following my_list[-1].\n",
        "\n",
        "* Print the following output  [2, 33, 222, 14] using slice method."
      ],
      "metadata": {
        "id": "LelhQmty6yac"
      }
    },
    {
      "cell_type": "code",
      "source": [
        "my_list = [2, 33, 222, 14, 25]\n",
        "my_list.sort(reverse=True)\n",
        "print(my_list)"
      ],
      "metadata": {
        "id": "62p4fL9g-5rH",
        "colab": {
          "base_uri": "https://localhost:8080/"
        },
        "outputId": "ef17be26-74ac-4a69-e37d-321d4b8a93c0"
      },
      "execution_count": 31,
      "outputs": [
        {
          "output_type": "stream",
          "name": "stdout",
          "text": [
            "[222, 33, 25, 14, 2]\n"
          ]
        }
      ]
    },
    {
      "cell_type": "code",
      "source": [
        "my_list = [2, 33, 222, 14, 25]\n",
        "print(my_list[-1])"
      ],
      "metadata": {
        "id": "2-tNVH8R4lIC",
        "colab": {
          "base_uri": "https://localhost:8080/"
        },
        "outputId": "e1193104-5392-4767-9d3f-62e3277361c0"
      },
      "execution_count": 32,
      "outputs": [
        {
          "output_type": "stream",
          "name": "stdout",
          "text": [
            "25\n"
          ]
        }
      ]
    },
    {
      "cell_type": "code",
      "source": [
        "my_list = [2, 33, 222, 14, 25]\n",
        "print(my_list[0:-1])"
      ],
      "metadata": {
        "id": "HTkPuU97-x0C",
        "colab": {
          "base_uri": "https://localhost:8080/"
        },
        "outputId": "51ec136f-0ea4-457c-d818-0fbfd19bc4ae"
      },
      "execution_count": 33,
      "outputs": [
        {
          "output_type": "stream",
          "name": "stdout",
          "text": [
            "[2, 33, 222, 14]\n"
          ]
        }
      ]
    },
    {
      "cell_type": "markdown",
      "source": [
        "#### Exercies 10:\n",
        "\n",
        "For the given string, perform following methods:\n",
        "\n",
        "* Split the string by using 'word.split' and print the result.\n",
        "* Replace MachineLearning by Python using `.replace()`."
      ],
      "metadata": {
        "id": "iXRD9t9QaXRF"
      }
    },
    {
      "cell_type": "code",
      "source": [
        "str1='Tests, Quizzes, Individual Labs, Group Labs and Hackathons'\n",
        "print(str1.split(\" \"))"
      ],
      "metadata": {
        "id": "qWaaIZ5EVz-_",
        "colab": {
          "base_uri": "https://localhost:8080/"
        },
        "outputId": "b1b4b7ee-1d7e-425d-f4e2-4fa3cc5c9c82"
      },
      "execution_count": 35,
      "outputs": [
        {
          "output_type": "stream",
          "name": "stdout",
          "text": [
            "['Tests,', 'Quizzes,', 'Individual', 'Labs,', 'Group', 'Labs', 'and', 'Hackathons']\n"
          ]
        }
      ]
    },
    {
      "cell_type": "code",
      "source": [
        "print(str1.replace(\"Tests\",\"Test\"))"
      ],
      "metadata": {
        "id": "TIyyhrYrV15M",
        "colab": {
          "base_uri": "https://localhost:8080/"
        },
        "outputId": "5bd5d64e-de1b-4eaa-8766-489307f0908a"
      },
      "execution_count": 36,
      "outputs": [
        {
          "output_type": "stream",
          "name": "stdout",
          "text": [
            "Test, Quizzes, Individual Labs, Group Labs and Hackathons\n"
          ]
        }
      ]
    }
  ]
}