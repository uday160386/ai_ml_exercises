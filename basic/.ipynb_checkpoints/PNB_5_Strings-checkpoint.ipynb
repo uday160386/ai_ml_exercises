{
 "cells": [
  {
   "cell_type": "markdown",
   "metadata": {
    "colab_type": "text",
    "id": "view-in-github"
   },
   "source": [
    "<a href=\"https://colab.research.google.com/github/uday160386/uday_ai_ml/blob/main/PNB_5_Strings.ipynb\" target=\"_parent\"><img src=\"https://colab.research.google.com/assets/colab-badge.svg\" alt=\"Open In Colab\"/></a>"
   ]
  },
  {
   "cell_type": "markdown",
   "metadata": {
    "id": "12wF6gUYT_We"
   },
   "source": [
    "## Practice Notebook"
   ]
  },
  {
   "cell_type": "markdown",
   "metadata": {
    "id": "OJx1Dus7hHsx"
   },
   "source": [
    "## Strings\n",
    "\n",
    "A string is a series of characters. In Python, anything inside \"quotes\" is a string. You can either use 'single quotes' or \"double quotes\".\n",
    "\n",
    "For more info, refer [here](https://www.w3schools.com/python/python_strings.asp)."
   ]
  },
  {
   "cell_type": "markdown",
   "metadata": {
    "id": "dN-JN2GeYNzP"
   },
   "source": [
    "####Exercise 1:\n",
    "\n",
    "Declare the values of a string variable to be 'Tests, Quizzes, Individual Labs, Group Labs and Hackathons'.\n",
    "\n",
    "\n",
    "Print the string."
   ]
  },
  {
   "cell_type": "code",
   "execution_count": 1,
   "metadata": {
    "colab": {
     "base_uri": "https://localhost:8080/"
    },
    "id": "PvmSKSuCYAzn",
    "outputId": "ba05f038-c0ef-4103-836f-d6558249cb1e"
   },
   "outputs": [
    {
     "name": "stdout",
     "output_type": "stream",
     "text": [
      "<class 'str'>\n"
     ]
    }
   ],
   "source": [
    "str1='Tests, Quizzes, Individual Labs, Group Labs and Hackathons'\n",
    "print(str)"
   ]
  },
  {
   "cell_type": "markdown",
   "metadata": {
    "id": "_5P3baVHXixq"
   },
   "source": [
    "####Exercise 2:\n",
    "\n",
    "Declare the values of a string variable to be \"I need Tables, Chairs, Cupboards\", in double qoutes.\n",
    "\n",
    "Print the string."
   ]
  },
  {
   "cell_type": "code",
   "execution_count": 2,
   "metadata": {
    "colab": {
     "base_uri": "https://localhost:8080/"
    },
    "id": "TRkcTF71T1PO",
    "outputId": "2f981ef8-201e-4f99-f0e9-2b6d053f06ba"
   },
   "outputs": [
    {
     "name": "stdout",
     "output_type": "stream",
     "text": [
      "<class 'str'>\n"
     ]
    }
   ],
   "source": [
    "str2=\"I need Tables, Chairs, Cupboards\"\n",
    "print(str)"
   ]
  },
  {
   "cell_type": "markdown",
   "metadata": {
    "id": "-_F548p0cm-Y"
   },
   "source": [
    "####Exercise 3:\n",
    "\n",
    "Concatenate the two string variables declared in Exercise 1 and Exercise 2."
   ]
  },
  {
   "cell_type": "code",
   "execution_count": 3,
   "metadata": {
    "colab": {
     "base_uri": "https://localhost:8080/"
    },
    "id": "JEdJQUBkcUHe",
    "outputId": "96aae431-814a-4386-8229-dea3b1d5399b"
   },
   "outputs": [
    {
     "name": "stdout",
     "output_type": "stream",
     "text": [
      "Tests, Quizzes, Individual Labs, Group Labs and HackathonsI need Tables, Chairs, Cupboards\n"
     ]
    }
   ],
   "source": [
    "str4=str1+str2\n",
    "print(str4)"
   ]
  },
  {
   "cell_type": "markdown",
   "metadata": {
    "id": "BsMn8suiZSMr"
   },
   "source": [
    "####Exercise 4:\n",
    "\n",
    "Write a short note on any topic in python and print the note using single `print` statement."
   ]
  },
  {
   "cell_type": "code",
   "execution_count": 7,
   "metadata": {
    "colab": {
     "base_uri": "https://localhost:8080/"
    },
    "id": "ndGfCaAMZEyj",
    "outputId": "09689d9e-edf1-48b1-8478-84761f1e052e"
   },
   "outputs": [
    {
     "name": "stdout",
     "output_type": "stream",
     "text": [
      " writing the short notes\n"
     ]
    }
   ],
   "source": [
    "print(' writing the short notes')"
   ]
  },
  {
   "cell_type": "markdown",
   "metadata": {
    "id": "bpzOBwWjdUbO"
   },
   "source": [
    "####Exercise 5:\n",
    "\n",
    "* Concatenate the output of the string in Exercise 3 and output of the string in Exercise 1.\n",
    "* Print the length of the concatenated string.\n"
   ]
  },
  {
   "cell_type": "code",
   "execution_count": 9,
   "metadata": {
    "colab": {
     "base_uri": "https://localhost:8080/"
    },
    "id": "ScREMvsJd4Ig",
    "outputId": "1314895e-53f9-4d5c-a8f7-5e98b04bf886"
   },
   "outputs": [
    {
     "name": "stdout",
     "output_type": "stream",
     "text": [
      "Tests, Quizzes, Individual Labs, Group Labs and HackathonsI need Tables, Chairs, CupboardsTests, Quizzes, Individual Labs, Group Labs and Hackathons\n",
      "148\n"
     ]
    }
   ],
   "source": [
    "new_str=str4+str1\n",
    "print(new_str)\n",
    "print(len(new_str))"
   ]
  },
  {
   "cell_type": "markdown",
   "metadata": {
    "id": "zrvj2kICovvo"
   },
   "source": [
    "#### Exercies 6:\n",
    "\n",
    "Perform simple string operations for A = \"Hello\", B = \"world!\":\n",
    " * Concatenate by +.\n",
    " * Multiple concatenation by *  (ex: 4 * A + \" \" * 3 + B * 2).\n",
    " * Check for substring with `in`.\n",
    " * Determine the size (number of characters) using `len`."
   ]
  },
  {
   "cell_type": "code",
   "execution_count": 16,
   "metadata": {
    "colab": {
     "base_uri": "https://localhost:8080/"
    },
    "id": "mUwqIlhnpBPe",
    "outputId": "89a3c1cd-5482-4dba-a4ea-c5bf979f0a85"
   },
   "outputs": [
    {
     "name": "stdout",
     "output_type": "stream",
     "text": [
      "Helloworld!\n",
      "HelloHelloHelloHello   world!world!HelloHelloHelloHello   world!world!\n"
     ]
    },
    {
     "data": {
      "text/plain": [
       "70"
      ]
     },
     "execution_count": 16,
     "metadata": {},
     "output_type": "execute_result"
    }
   ],
   "source": [
    "A = \"Hello\"\n",
    "B = \"world!\"\n",
    "print(A+B)\n",
    "print(2*(4 * A + \" \" * 3 + B * 2))\n",
    "len(2*(4 * A + \" \" * 3 + B * 2))"
   ]
  },
  {
   "cell_type": "markdown",
   "metadata": {
    "id": "t_RU_DjFqMF-"
   },
   "source": [
    "####Exercies 7:\n",
    "\n",
    "For the given variable name = 'hELLO, WORLD!', perform the following:\n",
    "* Print the character '!'.\n",
    "* Convert the string to lowercase.\n",
    "* Print the first character in upper case.\n",
    "* Print a string where all the upper case letters are lower case and vice versa.\n"
   ]
  },
  {
   "cell_type": "code",
   "execution_count": 17,
   "metadata": {
    "colab": {
     "base_uri": "https://localhost:8080/"
    },
    "id": "JeDkZaQxpamY",
    "outputId": "8360eacf-1b9a-44f1-a7fc-3725af4f5460"
   },
   "outputs": [
    {
     "name": "stdout",
     "output_type": "stream",
     "text": [
      "!\n"
     ]
    }
   ],
   "source": [
    "name = 'hELLO, WORLD!'\n",
    "print(name[-1])"
   ]
  },
  {
   "cell_type": "code",
   "execution_count": 18,
   "metadata": {
    "colab": {
     "base_uri": "https://localhost:8080/"
    },
    "id": "B8n5iU_-snKH",
    "outputId": "562d9a5f-60c4-4997-a8ba-14d41726a035"
   },
   "outputs": [
    {
     "name": "stdout",
     "output_type": "stream",
     "text": [
      "hello, world!\n"
     ]
    }
   ],
   "source": [
    "# The lower() method returns a string converted to lowercase.\n",
    "print(name.lower())"
   ]
  },
  {
   "cell_type": "code",
   "execution_count": 19,
   "metadata": {
    "colab": {
     "base_uri": "https://localhost:8080/"
    },
    "id": "8d0wOfi3Zsd-",
    "outputId": "dc336395-ab5d-4bae-da47-6f1182c17794"
   },
   "outputs": [
    {
     "name": "stdout",
     "output_type": "stream",
     "text": [
      "HELLO, WORLD!\n"
     ]
    }
   ],
   "source": [
    "print(name.upper())"
   ]
  },
  {
   "cell_type": "code",
   "execution_count": 22,
   "metadata": {
    "colab": {
     "base_uri": "https://localhost:8080/"
    },
    "id": "hYOmJNw4aOL9",
    "outputId": "bd1eefa6-a1d3-4ac5-e94a-cbc6420daa27"
   },
   "outputs": [
    {
     "name": "stdout",
     "output_type": "stream",
     "text": [
      "Hello, world!\n"
     ]
    }
   ],
   "source": [
    "print(name.swapcase())"
   ]
  },
  {
   "cell_type": "markdown",
   "metadata": {
    "id": "3wNoT59o2HAi"
   },
   "source": [
    "#### Exercies 8:\n",
    "\n",
    "For a given string, perform the following:\n",
    "* Using `for` to iterate over a string in Python.\n",
    "* Print the number of times the letter/character ‘s’ appears in a string."
   ]
  },
  {
   "cell_type": "code",
   "execution_count": 4,
   "metadata": {
    "colab": {
     "base_uri": "https://localhost:8080/"
    },
    "id": "C52n7pwL0_dZ",
    "outputId": "e5158280-70f8-4404-e703-424c88711814"
   },
   "outputs": [
    {
     "ename": "NameError",
     "evalue": "name 'name' is not defined",
     "output_type": "error",
     "traceback": [
      "\u001b[0;31m---------------------------------------------------------------------------\u001b[0m",
      "\u001b[0;31mNameError\u001b[0m                                 Traceback (most recent call last)",
      "Cell \u001b[0;32mIn[4], line 1\u001b[0m\n\u001b[0;32m----> 1\u001b[0m \u001b[38;5;28;01mfor\u001b[39;00m i \u001b[38;5;129;01min\u001b[39;00m name:\n\u001b[1;32m      2\u001b[0m   \u001b[38;5;28mprint\u001b[39m(i)\n",
      "\u001b[0;31mNameError\u001b[0m: name 'name' is not defined"
     ]
    }
   ],
   "source": [
    "for i in name:\n",
    "  print(i)"
   ]
  },
  {
   "cell_type": "code",
   "execution_count": 27,
   "metadata": {
    "colab": {
     "base_uri": "https://localhost:8080/"
    },
    "id": "5zjqFGxI3Epa",
    "outputId": "fe0b936f-b40e-455e-c022-aa884f55ad4b"
   },
   "outputs": [
    {
     "name": "stdout",
     "output_type": "stream",
     "text": [
      "1\n"
     ]
    }
   ],
   "source": [
    "n=0\n",
    "for i in name:\n",
    "  if i == 'D':\n",
    "    n=n+1\n",
    "print(n)"
   ]
  },
  {
   "cell_type": "markdown",
   "metadata": {
    "id": "LelhQmty6yac"
   },
   "source": [
    "#### Exercies 9:\n",
    "\n",
    "For a given list, perform the following:\n",
    "\n",
    "* Print the list in reverse oder.\n",
    "\n",
    "* Print the following my_list[-1].\n",
    "\n",
    "* Print the following output  [2, 33, 222, 14] using slice method."
   ]
  },
  {
   "cell_type": "code",
   "execution_count": 31,
   "metadata": {
    "colab": {
     "base_uri": "https://localhost:8080/"
    },
    "id": "62p4fL9g-5rH",
    "outputId": "ef17be26-74ac-4a69-e37d-321d4b8a93c0"
   },
   "outputs": [
    {
     "name": "stdout",
     "output_type": "stream",
     "text": [
      "[222, 33, 25, 14, 2]\n"
     ]
    }
   ],
   "source": [
    "my_list = [2, 33, 222, 14, 25]\n",
    "my_list.sort(reverse=True)\n",
    "print(my_list)"
   ]
  },
  {
   "cell_type": "code",
   "execution_count": 32,
   "metadata": {
    "colab": {
     "base_uri": "https://localhost:8080/"
    },
    "id": "2-tNVH8R4lIC",
    "outputId": "e1193104-5392-4767-9d3f-62e3277361c0"
   },
   "outputs": [
    {
     "name": "stdout",
     "output_type": "stream",
     "text": [
      "25\n"
     ]
    }
   ],
   "source": [
    "my_list = [2, 33, 222, 14, 25]\n",
    "print(my_list[-1])"
   ]
  },
  {
   "cell_type": "code",
   "execution_count": 33,
   "metadata": {
    "colab": {
     "base_uri": "https://localhost:8080/"
    },
    "id": "HTkPuU97-x0C",
    "outputId": "51ec136f-0ea4-457c-d818-0fbfd19bc4ae"
   },
   "outputs": [
    {
     "name": "stdout",
     "output_type": "stream",
     "text": [
      "[2, 33, 222, 14]\n"
     ]
    }
   ],
   "source": [
    "my_list = [2, 33, 222, 14, 25]\n",
    "print(my_list[0:-1])"
   ]
  },
  {
   "cell_type": "markdown",
   "metadata": {
    "id": "iXRD9t9QaXRF"
   },
   "source": [
    "#### Exercies 10:\n",
    "\n",
    "For the given string, perform following methods:\n",
    "\n",
    "* Split the string by using 'word.split' and print the result.\n",
    "* Replace MachineLearning by Python using `.replace()`."
   ]
  },
  {
   "cell_type": "code",
   "execution_count": 35,
   "metadata": {
    "colab": {
     "base_uri": "https://localhost:8080/"
    },
    "id": "qWaaIZ5EVz-_",
    "outputId": "b1b4b7ee-1d7e-425d-f4e2-4fa3cc5c9c82"
   },
   "outputs": [
    {
     "name": "stdout",
     "output_type": "stream",
     "text": [
      "['Tests,', 'Quizzes,', 'Individual', 'Labs,', 'Group', 'Labs', 'and', 'Hackathons']\n"
     ]
    }
   ],
   "source": [
    "str1='Tests, Quizzes, Individual Labs, Group Labs and Hackathons'\n",
    "print(str1.split(\" \"))"
   ]
  },
  {
   "cell_type": "code",
   "execution_count": 36,
   "metadata": {
    "colab": {
     "base_uri": "https://localhost:8080/"
    },
    "id": "TIyyhrYrV15M",
    "outputId": "5bd5d64e-de1b-4eaa-8766-489307f0908a"
   },
   "outputs": [
    {
     "name": "stdout",
     "output_type": "stream",
     "text": [
      "Test, Quizzes, Individual Labs, Group Labs and Hackathons\n"
     ]
    }
   ],
   "source": [
    "print(str1.replace(\"Tests\",\"Test\"))"
   ]
  }
 ],
 "metadata": {
  "colab": {
   "include_colab_link": true,
   "provenance": []
  },
  "kernelspec": {
   "display_name": "Python 3 (ipykernel)",
   "language": "python",
   "name": "python3"
  },
  "language_info": {
   "codemirror_mode": {
    "name": "ipython",
    "version": 3
   },
   "file_extension": ".py",
   "mimetype": "text/x-python",
   "name": "python",
   "nbconvert_exporter": "python",
   "pygments_lexer": "ipython3",
   "version": "3.11.5"
  }
 },
 "nbformat": 4,
 "nbformat_minor": 1
}
