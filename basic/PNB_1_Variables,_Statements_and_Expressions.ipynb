{
  "cells": [
    {
      "cell_type": "markdown",
      "metadata": {
        "colab_type": "text",
        "id": "view-in-github"
      },
      "source": [
        "<a href=\"https://colab.research.google.com/github/uday160386/uday_ai_ml/blob/main/PNB_1_Variables%2C_Statements_and_Expressions.ipynb\" target=\"_parent\"><img src=\"https://colab.research.google.com/assets/colab-badge.svg\" alt=\"Open In Colab\"/></a>"
      ]
    },
    {
      "cell_type": "markdown",
      "metadata": {
        "id": "rr5USj--ql23"
      },
      "source": [
        "## Practice Notebook\n",
        "\n",
        "\n"
      ]
    },
    {
      "cell_type": "markdown",
      "metadata": {
        "id": "uMAWvCJ3ml1z"
      },
      "source": [
        "#### Exercise 1: Check the type for the following\n",
        "\n",
        "1. a = 6\n",
        "2. b = 6.4\n",
        "3. c = \"Hello\"\n",
        "4. d = \"17\"\n",
        "4. print e = a + b and check the type of e\n"
      ]
    },
    {
      "cell_type": "code",
      "execution_count": 1,
      "metadata": {
        "id": "W-e1iD9SQTim"
      },
      "outputs": [
        {
          "name": "stdout",
          "output_type": "stream",
          "text": [
            "<class 'int'>\n",
            "<class 'float'>\n",
            "<class 'str'>\n",
            "<class 'str'>\n",
            "12.4\n"
          ]
        },
        {
          "data": {
            "text/plain": [
              "float"
            ]
          },
          "execution_count": 1,
          "metadata": {},
          "output_type": "execute_result"
        }
      ],
      "source": [
        "a = 6\n",
        "print(type(a)) #printing the type of a which should int\n",
        "b = 6.4\n",
        "print(type(b)) #printing the type of b which should be float\n",
        "c = \"Hello\"\n",
        "print(type(c)) #printing the type of c which should be str\n",
        "d = \"17\"\n",
        "print(type(d))#printing the type of b which should be str\n",
        "e=a+b #adding variables a, b and assinging it to variable e\n",
        "print(e) #printing the value of e\n",
        "type(e) #printing the type of e which should be float\n"
      ]
    },
    {
      "cell_type": "markdown",
      "metadata": {
        "id": "KA_glXMvoass"
      },
      "source": [
        "#### Exercise 2: The goal of this exercise is to determine types and then change those types. Perform the following:\n",
        "\n",
        "1. convert 7.999999999 to an int\n",
        "2. Convert 6 to a float"
      ]
    },
    {
      "cell_type": "code",
      "execution_count": 2,
      "metadata": {
        "id": "LgettyQFpG04"
      },
      "outputs": [
        {
          "name": "stdout",
          "output_type": "stream",
          "text": [
            "<class 'float'>\n",
            "7\n",
            "<class 'int'>\n",
            "<class 'int'>\n",
            "6.0\n",
            "<class 'float'>\n"
          ]
        }
      ],
      "source": [
        "print(type(7.999999999))\n",
        "print(int(7.999999999)) #type casting the float to int\n",
        "print(type(int(7.999999999))) #printing the type\n",
        "print(type(6)) #printing the type\n",
        "print(float(6)) #type casting the int to float\n",
        "print(type(float(6))) #printing the type"
      ]
    },
    {
      "cell_type": "markdown",
      "metadata": {
        "id": "l7uH5N8VpPM6"
      },
      "source": [
        "#### Exercise 3: The goal of this exercise is to assign values to variables. Variables can be assigned any value.\n",
        "\n",
        "1. Assign value 2 to the x variable and print x\n",
        "2. Add 1 to the variable x and check the output\n",
        "3. Change x to 3.0 and add 1 to x"
      ]
    },
    {
      "cell_type": "code",
      "execution_count": 3,
      "metadata": {
        "id": "5cBdV5CDrMoX"
      },
      "outputs": [
        {
          "name": "stdout",
          "output_type": "stream",
          "text": [
            "2\n",
            "1\n",
            "4.0\n"
          ]
        }
      ],
      "source": [
        "x=2 #assigning the value 2 to x\n",
        "print(x)\n",
        "x=1 #assigning the value 1 to x\n",
        "print(x)\n",
        "x=3.0+1 #assigning the value 3.0 and adding 1 to it\n",
        "print(x)"
      ]
    },
    {
      "cell_type": "markdown",
      "metadata": {
        "id": "wU3o9jXmr-3a"
      },
      "source": [
        "#### Exercise 4: The goal of this exercise is to learn standard ways to name variables by considering good and bad practices\n",
        "\n",
        "1. Create a variable called first_number and assign it a value of 1. Then check the output\n",
        "2. Create a variable called first_number@ and assign it a value of 1. Then check the output\n",
        "\n",
        "Recall the rules for Python variables naming:\n",
        "\n",
        "  * A variable name must start with a letter or the underscore character\n",
        "  * A variable name cannot start with a number\n",
        "  * A variable name can only contain alpha-numeric characters and underscores (A-z, 0-9, and _ )\n",
        "  * Variable names are case-sensitive (age, Age and AGE are three different variables)"
      ]
    },
    {
      "cell_type": "code",
      "execution_count": null,
      "metadata": {
        "id": "TaiM1rC9semk"
      },
      "outputs": [],
      "source": [
        "first_number=1\n",
        "print(first_number)\n",
        "first_number@=1\n",
        "print(first_number@)"
      ]
    },
    {
      "cell_type": "markdown",
      "metadata": {
        "id": "z7qtHTljs8aP"
      },
      "source": [
        "#### Exercise 5 : Perform mathematical operations using more than one variable.\n",
        "\n",
        "1. Assign 5 to x and 2 to y\n",
        "2. Add x to x and subtract y to the second power then assign to the variable z. Print z\n",
        "3. Assign 8 to x and 5 to y in a single line\n",
        "4. Find the integer division of x and y. Check the output.\n"
      ]
    },
    {
      "cell_type": "code",
      "execution_count": null,
      "metadata": {
        "id": "Y3cOzdvJtMOv"
      },
      "outputs": [],
      "source": [
        "x = 5\n",
        "y = 2\n",
        "z=x+x-y**2 # adding x+x, subtracting y to power\n",
        "print(z)\n",
        "x,y = 8,5 #assigning values in single line\n",
        "print(x/y) #division of two numbers"
      ]
    },
    {
      "cell_type": "markdown",
      "metadata": {
        "id": "E8WFcjawkAF4"
      },
      "source": [
        "#### Exercise6: For given a and b values perform the following:\n",
        "\n",
        "1. Perform addition on a and b  using the + operator\n",
        "2. Perform subtraction on a and b  using the + operator\n",
        "3. Use the * multiplication operator to multiply a and b\n",
        "4. Use the / division operator and observe the output\n"
      ]
    },
    {
      "cell_type": "code",
      "execution_count": null,
      "metadata": {
        "id": "thrKVuvfhocd"
      },
      "outputs": [],
      "source": [
        "a=1\n",
        "b=2\n",
        "print(a+b) #printing the value of a+b\n",
        "print(b-a)  #printing the value of b-a\n",
        "print(a*b) #printing the value of a*b\n",
        "print(b/a) #printing the value of b/a"
      ]
    },
    {
      "cell_type": "markdown",
      "metadata": {
        "id": "9pajWy3dun3S"
      },
      "source": [
        "#### Exercise 7: Perform the following:\n",
        "\n",
        "1. Add '5' and '7'\n",
        "2. Add '5' and '7' by converting them to int\n",
        "3. Determine the type of '5'\n"
      ]
    },
    {
      "cell_type": "code",
      "execution_count": null,
      "metadata": {
        "id": "qOKRdzuPu5--"
      },
      "outputs": [],
      "source": [
        "print('5'+'7') #printing the addition of characters of '5' + '7'\n",
        "print(int('5')+int('7')) #printing the addition of type casted characters of '5' + '7'\n",
        "print(type('5')) # printing the type"
      ]
    }
  ],
  "metadata": {
    "colab": {
      "include_colab_link": true,
      "private_outputs": true,
      "provenance": []
    },
    "kernelspec": {
      "display_name": "Python 3",
      "name": "python3"
    },
    "language_info": {
      "codemirror_mode": {
        "name": "ipython",
        "version": 3
      },
      "file_extension": ".py",
      "mimetype": "text/x-python",
      "name": "python",
      "nbconvert_exporter": "python",
      "pygments_lexer": "ipython3",
      "version": "3.10.9"
    }
  },
  "nbformat": 4,
  "nbformat_minor": 0
}
