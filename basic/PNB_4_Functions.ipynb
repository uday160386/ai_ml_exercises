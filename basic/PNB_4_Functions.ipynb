{
  "nbformat": 4,
  "nbformat_minor": 0,
  "metadata": {
    "colab": {
      "provenance": [],
      "include_colab_link": true
    },
    "kernelspec": {
      "name": "python3",
      "display_name": "Python 3"
    }
  },
  "cells": [
    {
      "cell_type": "markdown",
      "metadata": {
        "id": "view-in-github",
        "colab_type": "text"
      },
      "source": [
        "<a href=\"https://colab.research.google.com/github/uday160386/uday_ai_ml/blob/main/PNB_4_Functions.ipynb\" target=\"_parent\"><img src=\"https://colab.research.google.com/assets/colab-badge.svg\" alt=\"Open In Colab\"/></a>"
      ]
    },
    {
      "cell_type": "markdown",
      "source": [
        "## Practice Notebook\n",
        "\n",
        "\n"
      ],
      "metadata": {
        "id": "z3HaSE94quKx"
      }
    },
    {
      "cell_type": "markdown",
      "source": [
        "#### Manually Created Functions\n",
        "Functions are very easy to write in python and all non-trivial programs have functions. Function names have the same rules as variable names.\n",
        "\n",
        "#### Built in Functions\n",
        "Python comes with a nice set of built-in functions\n",
        "The complete set can be seen at:https://docs.python.org/3.6/library/functions.html\n",
        "\n",
        "We take a look at the most used ones here."
      ],
      "metadata": {
        "id": "cjtwSnDTNwpI"
      }
    },
    {
      "cell_type": "markdown",
      "source": [
        "## Manually Created Functions"
      ],
      "metadata": {
        "id": "icKsHSwnULhw"
      }
    },
    {
      "cell_type": "markdown",
      "metadata": {
        "id": "gRs6bMS-YUgN"
      },
      "source": [
        "#### Exercise 01: Build a function that takes the below string as a parameter and returns the words in the given string in backward order.\n",
        "\n",
        "Hint: [Split the words and join them in the reverse order using ' '.join(iterable)](https://docs.python.org/3/library/stdtypes.html)"
      ]
    },
    {
      "cell_type": "code",
      "metadata": {
        "id": "7zS2WRHBYUgR"
      },
      "source": [
        "string1 = \"my name is johnny\""
      ],
      "execution_count": null,
      "outputs": []
    },
    {
      "cell_type": "code",
      "metadata": {
        "id": "8YbeeR45dDAJ",
        "colab": {
          "base_uri": "https://localhost:8080/"
        },
        "outputId": "bd91aa5c-e7c2-4967-ec49-c57fe4c8595a"
      },
      "source": [
        "def reverse_string(str):\n",
        "  str=str.split(\" \")\n",
        "  return str[::-1] #used slicing notation\n",
        "\n",
        "string1 = \"my name is johnny\"\n",
        "print(reverse_string(string1))"
      ],
      "execution_count": 50,
      "outputs": [
        {
          "output_type": "stream",
          "name": "stdout",
          "text": [
            "['johnny', 'is', 'name', 'my']\n"
          ]
        }
      ]
    },
    {
      "cell_type": "markdown",
      "metadata": {
        "id": "QmjnX-rNkxxe"
      },
      "source": [
        "#### Exercise 02: For the given tuple of numbers, do the following:\n",
        "* Write a function which takes an integer 'N' as a parameter and returns the sum of multiples of 3 or 5 between 0 and N (limit). Where N is any element from the given tuple.\n",
        "* Print all the sum of multiples for each element from the tuple.\n",
        "* Example: If we list all the natural numbers less than 10 that are multiples of 3 or 5, we get 3, 5, 6, and 9 and their sum is 23"
      ]
    },
    {
      "cell_type": "code",
      "metadata": {
        "id": "8aEXBfFAlXhD"
      },
      "source": [
        "tuple2 = (10, 20, 30, 40, 50)"
      ],
      "execution_count": 56,
      "outputs": []
    },
    {
      "cell_type": "code",
      "metadata": {
        "id": "GpyN1zSKRS-_",
        "colab": {
          "base_uri": "https://localhost:8080/"
        },
        "outputId": "d0093764-55eb-4da6-ea00-98f570481681"
      },
      "source": [
        "def sum_of_multiples(N):\n",
        "  sum=0\n",
        "  for i in range(1, N):\n",
        "        if i%3 ==0 or i%5==0:\n",
        "          sum=sum+i\n",
        "  return sum\n",
        "\n",
        "print(sum_of_multiples(10))\n",
        "for j in tuple2:\n",
        "    print(sum_of_multiples(j))"
      ],
      "execution_count": 58,
      "outputs": [
        {
          "output_type": "stream",
          "name": "stdout",
          "text": [
            "23\n",
            "23\n",
            "78\n",
            "195\n",
            "368\n",
            "543\n"
          ]
        }
      ]
    },
    {
      "cell_type": "markdown",
      "metadata": {
        "id": "Eush4rnY_Gy2"
      },
      "source": [
        "#### Exercise 03: Build a function to print prime numbers within the given range."
      ]
    },
    {
      "cell_type": "code",
      "metadata": {
        "id": "XOWLvObDvVNQ",
        "colab": {
          "base_uri": "https://localhost:8080/"
        },
        "outputId": "73f955ce-31a9-4841-b1c9-6e3219b08b06"
      },
      "source": [
        "limit = 20\n",
        "\n",
        "def print_prime_numbers(a, b):\n",
        "    prime_number_list = []\n",
        "    for i in range(a, b):\n",
        "        if i == 0 or i == 1:\n",
        "            continue\n",
        "        else:\n",
        "            for j in range(2, int(i/2)+1):\n",
        "                if i % j == 0:\n",
        "                    break\n",
        "            else:\n",
        "                prime_number_list.append(i)\n",
        "    return prime_number_list\n",
        "print(print_prime_numbers(2,9))"
      ],
      "execution_count": 51,
      "outputs": [
        {
          "output_type": "stream",
          "name": "stdout",
          "text": [
            "[2, 3, 5, 7]\n"
          ]
        }
      ]
    },
    {
      "cell_type": "markdown",
      "metadata": {
        "id": "JoecaqnzRahf"
      },
      "source": [
        "#### Exercise 4: Rock Paper Scissors: Complete the function below that takes the given input word as a parameter and selects a random element from the words list. It then prints the random word within the function and returns a string, declaring 'win' or 'lose' or 'tie'.\n",
        "\n",
        "Example: Random input= 'Scissors', User input= Paper, Output = 'lose'\n",
        "\n",
        "Hint: [random.choice](https://docs.python.org/3/library/random.html)"
      ]
    },
    {
      "cell_type": "code",
      "metadata": {
        "id": "-hXoV_CdR9Os",
        "colab": {
          "base_uri": "https://localhost:8080/"
        },
        "outputId": "de9b5086-3679-41da-bbe5-8f1e3e8037d2"
      },
      "source": [
        "import random\n",
        "words = ['Rock','Paper','Scissors']\n",
        "input  = 'Scissors'\n",
        "\n",
        "def game(input):\n",
        "  ## Complete the function\n",
        "  word =random.choice(words)\n",
        "  if  word == 'Scissors' and input == 'Paper':\n",
        "    print('lose')\n",
        "  elif word == 'Paper' and input == 'Scissors':\n",
        "    print('win')\n",
        "  else:\n",
        "    print('tie')\n",
        "game(input)\n"
      ],
      "execution_count": 49,
      "outputs": [
        {
          "output_type": "stream",
          "name": "stdout",
          "text": [
            "tie\n"
          ]
        }
      ]
    },
    {
      "cell_type": "markdown",
      "source": [
        "## Built-in Functions"
      ],
      "metadata": {
        "id": "zGN4_CEaUHs4"
      }
    },
    {
      "cell_type": "markdown",
      "source": [
        "#### Exercise 05: Extract maximum value of each element in the given list using the built-in max function.\n",
        "\n",
        "\n",
        "\n",
        "Hint: [max(iterable)](https://docs.python.org/3/library/functions.html#max)"
      ],
      "metadata": {
        "id": "tQOfYzymO4ek"
      }
    },
    {
      "cell_type": "code",
      "source": [
        "list1 = [[1,2,4],[5,6],[8,9,12],[21,44],[121]]"
      ],
      "metadata": {
        "id": "mP0ba14iO7JT"
      },
      "execution_count": 40,
      "outputs": []
    },
    {
      "cell_type": "code",
      "source": [
        "for i in list1:\n",
        "  print(max(i))"
      ],
      "metadata": {
        "id": "Vj3mGI5bO_Pq",
        "colab": {
          "base_uri": "https://localhost:8080/"
        },
        "outputId": "89a377e1-f276-419b-acb1-1418b3cb284f"
      },
      "execution_count": 41,
      "outputs": [
        {
          "output_type": "stream",
          "name": "stdout",
          "text": [
            "4\n",
            "6\n",
            "12\n",
            "44\n",
            "121\n"
          ]
        }
      ]
    },
    {
      "cell_type": "markdown",
      "source": [
        "#### Exercise 06: For given list *a* and *b* perform the following Aggregate Functions\n",
        "* len(iterable)\n",
        "* max(iterable)\n",
        "* min(iterable)\n",
        "* sorted(iterable, key, reverse)\n",
        "* sum(iterable, start)"
      ],
      "metadata": {
        "id": "NsrffgW5PFvL"
      }
    },
    {
      "cell_type": "code",
      "source": [
        "a = [1, 2, 3, 4, 5, 6, 7, 8, 9, 10]\n",
        "b = [5,10, 15, 20, 25, 30, 35, 40, 45, 50]"
      ],
      "metadata": {
        "id": "liPmIx_mPWVM"
      },
      "execution_count": 26,
      "outputs": []
    },
    {
      "cell_type": "code",
      "source": [
        "print(len(a))\n",
        "print(len(b))\n",
        "print(max(a))\n",
        "print(max(b))\n",
        "print(min(a))\n",
        "print(min(b))\n",
        "print(sorted(a,reverse=True ))\n",
        "print(sorted(b,reverse=True ))\n",
        "print(sum(a, 0))\n",
        "print(sum(b, 0))\n"
      ],
      "metadata": {
        "id": "_8E9DUwqPeTB",
        "colab": {
          "base_uri": "https://localhost:8080/"
        },
        "outputId": "ec1bc387-302c-4e67-85be-30a0e001bc35"
      },
      "execution_count": 34,
      "outputs": [
        {
          "output_type": "stream",
          "name": "stdout",
          "text": [
            "10\n",
            "10\n",
            "10\n",
            "50\n",
            "1\n",
            "5\n",
            "[10, 9, 8, 7, 6, 5, 4, 3, 2, 1]\n",
            "[50, 45, 40, 35, 30, 25, 20, 15, 10, 5]\n",
            "55\n",
            "275\n"
          ]
        }
      ]
    },
    {
      "cell_type": "markdown",
      "source": [
        "#### Exercise 07: Print the data type of x, y and z  values"
      ],
      "metadata": {
        "id": "yerVE_tzVG39"
      }
    },
    {
      "cell_type": "code",
      "source": [
        "x = 10\n",
        "print(type(x))\n",
        "\n",
        "y = 12.6\n",
        "print(type(y))\n",
        "\n",
        "z = x + y\n",
        "print(type(z))"
      ],
      "metadata": {
        "id": "xeR5yEdnPphw",
        "colab": {
          "base_uri": "https://localhost:8080/"
        },
        "outputId": "d8e12536-a880-429f-a5e7-6cb0712d09ec"
      },
      "execution_count": 37,
      "outputs": [
        {
          "output_type": "stream",
          "name": "stdout",
          "text": [
            "<class 'int'>\n",
            "<class 'float'>\n",
            "<class 'float'>\n"
          ]
        }
      ]
    },
    {
      "cell_type": "markdown",
      "source": [
        "Exercise 08:  Initialize the string and perform the following:\n",
        "\n",
        "1. Check the type of string\n",
        "2. convert string to int and check the type"
      ],
      "metadata": {
        "id": "SaPsPE9Idbqn"
      }
    },
    {
      "cell_type": "code",
      "source": [
        "a = '1234'"
      ],
      "metadata": {
        "id": "NRBsQnHMVas6"
      },
      "execution_count": 35,
      "outputs": []
    },
    {
      "cell_type": "code",
      "source": [
        "print(type(a))\n",
        "print(type(int(a)))"
      ],
      "metadata": {
        "id": "9RUhtfSngtQx",
        "colab": {
          "base_uri": "https://localhost:8080/"
        },
        "outputId": "c2592039-b3a8-41c8-9a64-5f68deb0998d"
      },
      "execution_count": 39,
      "outputs": [
        {
          "output_type": "stream",
          "name": "stdout",
          "text": [
            "<class 'str'>\n",
            "<class 'int'>\n"
          ]
        }
      ]
    }
  ]
}